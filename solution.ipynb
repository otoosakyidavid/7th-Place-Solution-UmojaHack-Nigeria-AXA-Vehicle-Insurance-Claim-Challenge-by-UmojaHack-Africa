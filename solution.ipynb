{
 "cells": [
  {
   "cell_type": "markdown",
   "metadata": {},
   "source": [
    "### Importing Necesssary Libraries"
   ]
  },
  {
   "cell_type": "code",
   "execution_count": 1,
   "metadata": {},
   "outputs": [],
   "source": [
    "import numpy as np\n",
    "import pandas as pd\n",
    "import matplotlib.pyplot as plt\n",
    "import seaborn as sns\n",
    "from sklearn.linear_model import LogisticRegression\n",
    "from sklearn.tree import  DecisionTreeClassifier\n",
    "from sklearn.ensemble import RandomForestClassifier,AdaBoostClassifier,GradientBoostingClassifier\n",
    "from lightgbm import LGBMClassifier\n",
    "from xgboost import XGBClassifier, XGBRFClassifier\n",
    "from catboost import CatBoostClassifier\n",
    "from sklearn.model_selection import train_test_split , StratifiedKFold  , StratifiedShuffleSplit\n",
    "from sklearn.preprocessing import LabelEncoder\n",
    "import os\n",
    "import random\n",
    "pd.set_option(\"display.max_columns\",30)\n",
    "\n",
    "%matplotlib inline"
   ]
  },
  {
   "cell_type": "markdown",
   "metadata": {},
   "source": [
    "#### Set Seed for Reproducable Results"
   ]
  },
  {
   "cell_type": "code",
   "execution_count": 2,
   "metadata": {},
   "outputs": [],
   "source": [
    "random.seed(0)\n",
    "np.random.seed(0)"
   ]
  },
  {
   "cell_type": "markdown",
   "metadata": {},
   "source": [
    "#### Failsafe Data Loading in scenrios notebook is used on colab"
   ]
  },
  {
   "cell_type": "code",
   "execution_count": 3,
   "metadata": {},
   "outputs": [],
   "source": [
    "try:\n",
    "    train = pd.read_csv(\"../Train.csv\" , low_memory=False)\n",
    "    test = pd.read_csv(\"../Test.csv\" , low_memory=False)\n",
    "    ss = pd.read_csv(\"../SampleSubmission.csv\" , low_memory=False)\n",
    "    var_def = pd.read_csv(\"../VariableDefinitions.csv\" , low_memory=False)\n",
    "except:\n",
    "    !colab_download\n",
    "    train = pd.read_csv(\"../Train.csv\" , low_memory=False)\n",
    "    test = pd.read_csv(\"../Test.csv\" , low_memory=False)\n",
    "    ss = pd.read_csv(\"../SampleSubmission.csv\" , low_memory=False)\n",
    "    var_def = pd.read_csv(\"../VariableDefinitions.csv\" , low_memory=False)"
   ]
  },
  {
   "cell_type": "code",
   "execution_count": 4,
   "metadata": {},
   "outputs": [
    {
     "name": "stdout",
     "output_type": "stream",
     "text": [
      "Train Shape (12079, 14)\n",
      "Test Shape (5177, 13)\n",
      "Sample_Sub Shape (5177, 2)\n",
      "Variable Definitions Shape (13, 2)\n"
     ]
    }
   ],
   "source": [
    "print(f\"Train Shape {train.shape}\")\n",
    "print(f\"Test Shape {test.shape}\")\n",
    "print(f\"Sample_Sub Shape {ss.shape}\")\n",
    "print(f\"Variable Definitions Shape {var_def.shape}\")"
   ]
  },
  {
   "cell_type": "code",
   "execution_count": 5,
   "metadata": {},
   "outputs": [],
   "source": [
    "DROP_COLS = [\"ID\"]\n",
    "TARGET = \"target\""
   ]
  },
  {
   "cell_type": "code",
   "execution_count": 6,
   "metadata": {},
   "outputs": [
    {
     "data": {
      "text/html": [
       "<div>\n",
       "<style scoped>\n",
       "    .dataframe tbody tr th:only-of-type {\n",
       "        vertical-align: middle;\n",
       "    }\n",
       "\n",
       "    .dataframe tbody tr th {\n",
       "        vertical-align: top;\n",
       "    }\n",
       "\n",
       "    .dataframe thead th {\n",
       "        text-align: right;\n",
       "    }\n",
       "</style>\n",
       "<table border=\"1\" class=\"dataframe\">\n",
       "  <thead>\n",
       "    <tr style=\"text-align: right;\">\n",
       "      <th></th>\n",
       "      <th>ID</th>\n",
       "      <th>Policy Start Date</th>\n",
       "      <th>Policy End Date</th>\n",
       "      <th>Gender</th>\n",
       "      <th>Age</th>\n",
       "      <th>First Transaction Date</th>\n",
       "      <th>No_Pol</th>\n",
       "      <th>Car_Category</th>\n",
       "      <th>Subject_Car_Colour</th>\n",
       "      <th>Subject_Car_Make</th>\n",
       "      <th>LGA_Name</th>\n",
       "      <th>State</th>\n",
       "      <th>ProductName</th>\n",
       "      <th>target</th>\n",
       "    </tr>\n",
       "  </thead>\n",
       "  <tbody>\n",
       "    <tr>\n",
       "      <th>0</th>\n",
       "      <td>0040R73</td>\n",
       "      <td>2010-05-14</td>\n",
       "      <td>2011-05-13</td>\n",
       "      <td>Male</td>\n",
       "      <td>30</td>\n",
       "      <td>2010-05-14</td>\n",
       "      <td>1</td>\n",
       "      <td>Saloon</td>\n",
       "      <td>Black</td>\n",
       "      <td>TOYOTA</td>\n",
       "      <td>NaN</td>\n",
       "      <td>NaN</td>\n",
       "      <td>Car Classic</td>\n",
       "      <td>0</td>\n",
       "    </tr>\n",
       "    <tr>\n",
       "      <th>1</th>\n",
       "      <td>0046BNK</td>\n",
       "      <td>2010-11-29</td>\n",
       "      <td>2011-11-28</td>\n",
       "      <td>Female</td>\n",
       "      <td>79</td>\n",
       "      <td>2010-11-29</td>\n",
       "      <td>1</td>\n",
       "      <td>JEEP</td>\n",
       "      <td>Grey</td>\n",
       "      <td>TOYOTA</td>\n",
       "      <td>NaN</td>\n",
       "      <td>NaN</td>\n",
       "      <td>Car Classic</td>\n",
       "      <td>1</td>\n",
       "    </tr>\n",
       "    <tr>\n",
       "      <th>2</th>\n",
       "      <td>005QMC3</td>\n",
       "      <td>2010-03-21</td>\n",
       "      <td>2011-03-20</td>\n",
       "      <td>Male</td>\n",
       "      <td>43</td>\n",
       "      <td>2010-03-21</td>\n",
       "      <td>1</td>\n",
       "      <td>Saloon</td>\n",
       "      <td>Red</td>\n",
       "      <td>TOYOTA</td>\n",
       "      <td>NaN</td>\n",
       "      <td>NaN</td>\n",
       "      <td>Car Classic</td>\n",
       "      <td>0</td>\n",
       "    </tr>\n",
       "    <tr>\n",
       "      <th>3</th>\n",
       "      <td>0079OHW</td>\n",
       "      <td>2010-08-21</td>\n",
       "      <td>2011-08-20</td>\n",
       "      <td>Male</td>\n",
       "      <td>2</td>\n",
       "      <td>2010-08-21</td>\n",
       "      <td>1</td>\n",
       "      <td>NaN</td>\n",
       "      <td>NaN</td>\n",
       "      <td>NaN</td>\n",
       "      <td>NaN</td>\n",
       "      <td>NaN</td>\n",
       "      <td>CarSafe</td>\n",
       "      <td>0</td>\n",
       "    </tr>\n",
       "    <tr>\n",
       "      <th>4</th>\n",
       "      <td>00BRP63</td>\n",
       "      <td>2010-08-29</td>\n",
       "      <td>2010-12-31</td>\n",
       "      <td>Entity</td>\n",
       "      <td>20</td>\n",
       "      <td>2010-08-29</td>\n",
       "      <td>3</td>\n",
       "      <td>NaN</td>\n",
       "      <td>NaN</td>\n",
       "      <td>NaN</td>\n",
       "      <td>Lagos</td>\n",
       "      <td>Lagos</td>\n",
       "      <td>Muuve</td>\n",
       "      <td>1</td>\n",
       "    </tr>\n",
       "  </tbody>\n",
       "</table>\n",
       "</div>"
      ],
      "text/plain": [
       "        ID Policy Start Date Policy End Date  Gender  Age  \\\n",
       "0  0040R73        2010-05-14      2011-05-13    Male   30   \n",
       "1  0046BNK        2010-11-29      2011-11-28  Female   79   \n",
       "2  005QMC3        2010-03-21      2011-03-20    Male   43   \n",
       "3  0079OHW        2010-08-21      2011-08-20    Male    2   \n",
       "4  00BRP63        2010-08-29      2010-12-31  Entity   20   \n",
       "\n",
       "  First Transaction Date  No_Pol Car_Category Subject_Car_Colour  \\\n",
       "0             2010-05-14       1       Saloon              Black   \n",
       "1             2010-11-29       1         JEEP               Grey   \n",
       "2             2010-03-21       1       Saloon                Red   \n",
       "3             2010-08-21       1          NaN                NaN   \n",
       "4             2010-08-29       3          NaN                NaN   \n",
       "\n",
       "  Subject_Car_Make LGA_Name  State  ProductName  target  \n",
       "0           TOYOTA      NaN    NaN  Car Classic       0  \n",
       "1           TOYOTA      NaN    NaN  Car Classic       1  \n",
       "2           TOYOTA      NaN    NaN  Car Classic       0  \n",
       "3              NaN      NaN    NaN      CarSafe       0  \n",
       "4              NaN    Lagos  Lagos        Muuve       1  "
      ]
     },
     "execution_count": 6,
     "metadata": {},
     "output_type": "execute_result"
    }
   ],
   "source": [
    "train.head()"
   ]
  },
  {
   "cell_type": "code",
   "execution_count": 7,
   "metadata": {},
   "outputs": [],
   "source": [
    "TARGET = \"target\"\n",
    "DROP_COLS = [\"ID\"]"
   ]
  },
  {
   "cell_type": "code",
   "execution_count": 8,
   "metadata": {},
   "outputs": [],
   "source": [
    "n_train = train.shape[0]\n",
    "n_test = test.shape[0]"
   ]
  },
  {
   "cell_type": "markdown",
   "metadata": {},
   "source": [
    "### Check Data Types"
   ]
  },
  {
   "cell_type": "code",
   "execution_count": 9,
   "metadata": {},
   "outputs": [
    {
     "data": {
      "text/plain": [
       "ID                        object\n",
       "Policy Start Date         object\n",
       "Policy End Date           object\n",
       "Gender                    object\n",
       "Age                        int64\n",
       "First Transaction Date    object\n",
       "No_Pol                     int64\n",
       "Car_Category              object\n",
       "Subject_Car_Colour        object\n",
       "Subject_Car_Make          object\n",
       "LGA_Name                  object\n",
       "State                     object\n",
       "ProductName               object\n",
       "target                     int64\n",
       "dtype: object"
      ]
     },
     "execution_count": 9,
     "metadata": {},
     "output_type": "execute_result"
    }
   ],
   "source": [
    "train.dtypes"
   ]
  },
  {
   "cell_type": "markdown",
   "metadata": {},
   "source": [
    "### Describe and Info"
   ]
  },
  {
   "cell_type": "code",
   "execution_count": 10,
   "metadata": {},
   "outputs": [
    {
     "data": {
      "text/html": [
       "<div>\n",
       "<style scoped>\n",
       "    .dataframe tbody tr th:only-of-type {\n",
       "        vertical-align: middle;\n",
       "    }\n",
       "\n",
       "    .dataframe tbody tr th {\n",
       "        vertical-align: top;\n",
       "    }\n",
       "\n",
       "    .dataframe thead th {\n",
       "        text-align: right;\n",
       "    }\n",
       "</style>\n",
       "<table border=\"1\" class=\"dataframe\">\n",
       "  <thead>\n",
       "    <tr style=\"text-align: right;\">\n",
       "      <th></th>\n",
       "      <th>Age</th>\n",
       "      <th>No_Pol</th>\n",
       "      <th>target</th>\n",
       "    </tr>\n",
       "  </thead>\n",
       "  <tbody>\n",
       "    <tr>\n",
       "      <th>count</th>\n",
       "      <td>12079.000000</td>\n",
       "      <td>12079.000000</td>\n",
       "      <td>12079.000000</td>\n",
       "    </tr>\n",
       "    <tr>\n",
       "      <th>mean</th>\n",
       "      <td>42.234539</td>\n",
       "      <td>1.307227</td>\n",
       "      <td>0.120457</td>\n",
       "    </tr>\n",
       "    <tr>\n",
       "      <th>std</th>\n",
       "      <td>97.492565</td>\n",
       "      <td>0.733085</td>\n",
       "      <td>0.325509</td>\n",
       "    </tr>\n",
       "    <tr>\n",
       "      <th>min</th>\n",
       "      <td>-6099.000000</td>\n",
       "      <td>1.000000</td>\n",
       "      <td>0.000000</td>\n",
       "    </tr>\n",
       "    <tr>\n",
       "      <th>25%</th>\n",
       "      <td>35.000000</td>\n",
       "      <td>1.000000</td>\n",
       "      <td>0.000000</td>\n",
       "    </tr>\n",
       "    <tr>\n",
       "      <th>50%</th>\n",
       "      <td>41.000000</td>\n",
       "      <td>1.000000</td>\n",
       "      <td>0.000000</td>\n",
       "    </tr>\n",
       "    <tr>\n",
       "      <th>75%</th>\n",
       "      <td>50.000000</td>\n",
       "      <td>1.000000</td>\n",
       "      <td>0.000000</td>\n",
       "    </tr>\n",
       "    <tr>\n",
       "      <th>max</th>\n",
       "      <td>320.000000</td>\n",
       "      <td>10.000000</td>\n",
       "      <td>1.000000</td>\n",
       "    </tr>\n",
       "  </tbody>\n",
       "</table>\n",
       "</div>"
      ],
      "text/plain": [
       "                Age        No_Pol        target\n",
       "count  12079.000000  12079.000000  12079.000000\n",
       "mean      42.234539      1.307227      0.120457\n",
       "std       97.492565      0.733085      0.325509\n",
       "min    -6099.000000      1.000000      0.000000\n",
       "25%       35.000000      1.000000      0.000000\n",
       "50%       41.000000      1.000000      0.000000\n",
       "75%       50.000000      1.000000      0.000000\n",
       "max      320.000000     10.000000      1.000000"
      ]
     },
     "execution_count": 10,
     "metadata": {},
     "output_type": "execute_result"
    }
   ],
   "source": [
    "train.describe()"
   ]
  },
  {
   "cell_type": "code",
   "execution_count": 11,
   "metadata": {},
   "outputs": [
    {
     "name": "stdout",
     "output_type": "stream",
     "text": [
      "<class 'pandas.core.frame.DataFrame'>\n",
      "RangeIndex: 12079 entries, 0 to 12078\n",
      "Data columns (total 14 columns):\n",
      " #   Column                  Non-Null Count  Dtype \n",
      "---  ------                  --------------  ----- \n",
      " 0   ID                      12079 non-null  object\n",
      " 1   Policy Start Date       12079 non-null  object\n",
      " 2   Policy End Date         12079 non-null  object\n",
      " 3   Gender                  11720 non-null  object\n",
      " 4   Age                     12079 non-null  int64 \n",
      " 5   First Transaction Date  12079 non-null  object\n",
      " 6   No_Pol                  12079 non-null  int64 \n",
      " 7   Car_Category            8341 non-null   object\n",
      " 8   Subject_Car_Colour      5117 non-null   object\n",
      " 9   Subject_Car_Make        9603 non-null   object\n",
      " 10  LGA_Name                5603 non-null   object\n",
      " 11  State                   5591 non-null   object\n",
      " 12  ProductName             12079 non-null  object\n",
      " 13  target                  12079 non-null  int64 \n",
      "dtypes: int64(3), object(11)\n",
      "memory usage: 1.3+ MB\n"
     ]
    }
   ],
   "source": [
    "train.info()"
   ]
  },
  {
   "cell_type": "markdown",
   "metadata": {},
   "source": [
    "### Missing Values"
   ]
  },
  {
   "cell_type": "code",
   "execution_count": 12,
   "metadata": {
    "scrolled": true
   },
   "outputs": [
    {
     "data": {
      "text/plain": [
       "ID                         0.000000\n",
       "Policy Start Date          0.000000\n",
       "Policy End Date            0.000000\n",
       "Gender                     2.972100\n",
       "Age                        0.000000\n",
       "First Transaction Date     0.000000\n",
       "No_Pol                     0.000000\n",
       "Car_Category              30.946270\n",
       "Subject_Car_Colour        57.637222\n",
       "Subject_Car_Make          20.498386\n",
       "LGA_Name                  53.613710\n",
       "State                     53.713056\n",
       "ProductName                0.000000\n",
       "target                     0.000000\n",
       "dtype: float64"
      ]
     },
     "execution_count": 12,
     "metadata": {},
     "output_type": "execute_result"
    }
   ],
   "source": [
    "train.isna().sum() / len(train) * 100"
   ]
  },
  {
   "cell_type": "code",
   "execution_count": 13,
   "metadata": {},
   "outputs": [
    {
     "data": {
      "text/plain": [
       "ID                         0.000000\n",
       "Policy Start Date          0.000000\n",
       "Policy End Date            0.000000\n",
       "Gender                     3.013328\n",
       "Age                        0.000000\n",
       "First Transaction Date     0.000000\n",
       "No_Pol                     0.000000\n",
       "Car_Category              31.639946\n",
       "Subject_Car_Colour        58.045200\n",
       "Subject_Car_Make          20.494495\n",
       "LGA_Name                  53.737686\n",
       "State                     53.853583\n",
       "ProductName                0.000000\n",
       "dtype: float64"
      ]
     },
     "execution_count": 13,
     "metadata": {},
     "output_type": "execute_result"
    }
   ],
   "source": [
    "test.isna().sum() / len(test) * 100"
   ]
  },
  {
   "cell_type": "code",
   "execution_count": 14,
   "metadata": {},
   "outputs": [
    {
     "data": {
      "text/plain": [
       "array(['Male', 'Female', 'Entity', 'Joint Gender', nan, 'NO GENDER',\n",
       "       'NOT STATED', 'SEX'], dtype=object)"
      ]
     },
     "execution_count": 14,
     "metadata": {},
     "output_type": "execute_result"
    }
   ],
   "source": [
    "train.Gender.unique()"
   ]
  },
  {
   "cell_type": "code",
   "execution_count": 15,
   "metadata": {},
   "outputs": [
    {
     "data": {
      "text/plain": [
       "array(['NO GENDER', nan, 'Female', 'Male', 'Joint Gender', 'NOT STATED',\n",
       "       'Entity', 'SEX'], dtype=object)"
      ]
     },
     "execution_count": 15,
     "metadata": {},
     "output_type": "execute_result"
    }
   ],
   "source": [
    "test.Gender.unique()"
   ]
  },
  {
   "cell_type": "markdown",
   "metadata": {},
   "source": [
    "### Target Distribution"
   ]
  },
  {
   "cell_type": "code",
   "execution_count": 16,
   "metadata": {},
   "outputs": [
    {
     "data": {
      "image/png": "[encoded data removed]",
      "text/plain": [
       "<Figure size 432x288 with 1 Axes>"
      ]
     },
     "metadata": {
      "needs_background": "light"
     },
     "output_type": "display_data"
    }
   ],
   "source": [
    "sns.countplot(x=\"target\",data=train)\n",
    "plt.show()"
   ]
  },
  {
   "cell_type": "markdown",
   "metadata": {},
   "source": [
    "That's one huge imbalance 😑"
   ]
  },
  {
   "cell_type": "code",
   "execution_count": 18,
   "metadata": {},
   "outputs": [
    {
     "data": {
      "text/plain": [
       "0    0.879543\n",
       "1    0.120457\n",
       "Name: target, dtype: float64"
      ]
     },
     "execution_count": 18,
     "metadata": {},
     "output_type": "execute_result"
    }
   ],
   "source": [
    "train.target.value_counts() / len(train)"
   ]
  },
  {
   "cell_type": "markdown",
   "metadata": {},
   "source": [
    "Target 0 takes 88%\n",
    "\n",
    "Target 1 takes 12%\n",
    "\n",
    "Hugo Class Imbalance"
   ]
  },
  {
   "cell_type": "markdown",
   "metadata": {},
   "source": [
    "#### Change Datetime Features"
   ]
  },
  {
   "cell_type": "code",
   "execution_count": 19,
   "metadata": {},
   "outputs": [],
   "source": [
    "#Policy Date Features\n",
    "train[\"Policy Start Date\"] = pd.to_datetime(train[\"Policy Start Date\"])\n",
    "test[\"Policy Start Date\"] = pd.to_datetime(test[\"Policy Start Date\"])\n",
    "\n",
    "#Policy End Feature\n",
    "train[\"Policy End Date\"] = pd.to_datetime(train[\"Policy End Date\"])\n",
    "test[\"Policy End Date\"] = pd.to_datetime(test[\"Policy End Date\"])\n",
    "\n",
    "#First Transaction Date\n",
    "train[\"First Transaction Date\"] = pd.to_datetime(train[\"First Transaction Date\"])\n",
    "test[\"First Transaction Date\"] = pd.to_datetime(test[\"First Transaction Date\"])"
   ]
  },
  {
   "cell_type": "code",
   "execution_count": 20,
   "metadata": {},
   "outputs": [],
   "source": [
    "missing_features = [col for col in train.columns if train[col].isna().sum() > 1]\n",
    "cat_features = [col for col in train.columns if train[col].dtype == \"O\" and col != \"ID\"]\n",
    "num_features = [col for col in train.columns if train[col].dtype == \"int\" or train[col].dtype == \"float\"]\n",
    "datetime_features = [col for col in train.columns if train[col].dtype == \"datetime64[ns]\"]"
   ]
  },
  {
   "cell_type": "code",
   "execution_count": 21,
   "metadata": {},
   "outputs": [
    {
     "data": {
      "text/plain": [
       "['Gender',\n",
       " 'Car_Category',\n",
       " 'Subject_Car_Colour',\n",
       " 'Subject_Car_Make',\n",
       " 'LGA_Name',\n",
       " 'State']"
      ]
     },
     "execution_count": 21,
     "metadata": {},
     "output_type": "execute_result"
    }
   ],
   "source": [
    "missing_features"
   ]
  },
  {
   "cell_type": "code",
   "execution_count": 22,
   "metadata": {},
   "outputs": [
    {
     "data": {
      "text/html": [
       "<div>\n",
       "<style scoped>\n",
       "    .dataframe tbody tr th:only-of-type {\n",
       "        vertical-align: middle;\n",
       "    }\n",
       "\n",
       "    .dataframe tbody tr th {\n",
       "        vertical-align: top;\n",
       "    }\n",
       "\n",
       "    .dataframe thead th {\n",
       "        text-align: right;\n",
       "    }\n",
       "</style>\n",
       "<table border=\"1\" class=\"dataframe\">\n",
       "  <thead>\n",
       "    <tr style=\"text-align: right;\">\n",
       "      <th></th>\n",
       "      <th>ID</th>\n",
       "      <th>Policy Start Date</th>\n",
       "      <th>Policy End Date</th>\n",
       "      <th>Gender</th>\n",
       "      <th>Age</th>\n",
       "      <th>First Transaction Date</th>\n",
       "      <th>No_Pol</th>\n",
       "      <th>Car_Category</th>\n",
       "      <th>Subject_Car_Colour</th>\n",
       "      <th>Subject_Car_Make</th>\n",
       "      <th>LGA_Name</th>\n",
       "      <th>State</th>\n",
       "      <th>ProductName</th>\n",
       "      <th>target</th>\n",
       "    </tr>\n",
       "  </thead>\n",
       "  <tbody>\n",
       "    <tr>\n",
       "      <th>0</th>\n",
       "      <td>0040R73</td>\n",
       "      <td>2010-05-14</td>\n",
       "      <td>2011-05-13</td>\n",
       "      <td>Male</td>\n",
       "      <td>30</td>\n",
       "      <td>2010-05-14</td>\n",
       "      <td>1</td>\n",
       "      <td>Saloon</td>\n",
       "      <td>Black</td>\n",
       "      <td>TOYOTA</td>\n",
       "      <td>NaN</td>\n",
       "      <td>NaN</td>\n",
       "      <td>Car Classic</td>\n",
       "      <td>0</td>\n",
       "    </tr>\n",
       "    <tr>\n",
       "      <th>1</th>\n",
       "      <td>0046BNK</td>\n",
       "      <td>2010-11-29</td>\n",
       "      <td>2011-11-28</td>\n",
       "      <td>Female</td>\n",
       "      <td>79</td>\n",
       "      <td>2010-11-29</td>\n",
       "      <td>1</td>\n",
       "      <td>JEEP</td>\n",
       "      <td>Grey</td>\n",
       "      <td>TOYOTA</td>\n",
       "      <td>NaN</td>\n",
       "      <td>NaN</td>\n",
       "      <td>Car Classic</td>\n",
       "      <td>1</td>\n",
       "    </tr>\n",
       "    <tr>\n",
       "      <th>2</th>\n",
       "      <td>005QMC3</td>\n",
       "      <td>2010-03-21</td>\n",
       "      <td>2011-03-20</td>\n",
       "      <td>Male</td>\n",
       "      <td>43</td>\n",
       "      <td>2010-03-21</td>\n",
       "      <td>1</td>\n",
       "      <td>Saloon</td>\n",
       "      <td>Red</td>\n",
       "      <td>TOYOTA</td>\n",
       "      <td>NaN</td>\n",
       "      <td>NaN</td>\n",
       "      <td>Car Classic</td>\n",
       "      <td>0</td>\n",
       "    </tr>\n",
       "    <tr>\n",
       "      <th>3</th>\n",
       "      <td>0079OHW</td>\n",
       "      <td>2010-08-21</td>\n",
       "      <td>2011-08-20</td>\n",
       "      <td>Male</td>\n",
       "      <td>2</td>\n",
       "      <td>2010-08-21</td>\n",
       "      <td>1</td>\n",
       "      <td>NaN</td>\n",
       "      <td>NaN</td>\n",
       "      <td>NaN</td>\n",
       "      <td>NaN</td>\n",
       "      <td>NaN</td>\n",
       "      <td>CarSafe</td>\n",
       "      <td>0</td>\n",
       "    </tr>\n",
       "    <tr>\n",
       "      <th>4</th>\n",
       "      <td>00BRP63</td>\n",
       "      <td>2010-08-29</td>\n",
       "      <td>2010-12-31</td>\n",
       "      <td>Entity</td>\n",
       "      <td>20</td>\n",
       "      <td>2010-08-29</td>\n",
       "      <td>3</td>\n",
       "      <td>NaN</td>\n",
       "      <td>NaN</td>\n",
       "      <td>NaN</td>\n",
       "      <td>Lagos</td>\n",
       "      <td>Lagos</td>\n",
       "      <td>Muuve</td>\n",
       "      <td>1</td>\n",
       "    </tr>\n",
       "  </tbody>\n",
       "</table>\n",
       "</div>"
      ],
      "text/plain": [
       "        ID Policy Start Date Policy End Date  Gender  Age  \\\n",
       "0  0040R73        2010-05-14      2011-05-13    Male   30   \n",
       "1  0046BNK        2010-11-29      2011-11-28  Female   79   \n",
       "2  005QMC3        2010-03-21      2011-03-20    Male   43   \n",
       "3  0079OHW        2010-08-21      2011-08-20    Male    2   \n",
       "4  00BRP63        2010-08-29      2010-12-31  Entity   20   \n",
       "\n",
       "  First Transaction Date  No_Pol Car_Category Subject_Car_Colour  \\\n",
       "0             2010-05-14       1       Saloon              Black   \n",
       "1             2010-11-29       1         JEEP               Grey   \n",
       "2             2010-03-21       1       Saloon                Red   \n",
       "3             2010-08-21       1          NaN                NaN   \n",
       "4             2010-08-29       3          NaN                NaN   \n",
       "\n",
       "  Subject_Car_Make LGA_Name  State  ProductName  target  \n",
       "0           TOYOTA      NaN    NaN  Car Classic       0  \n",
       "1           TOYOTA      NaN    NaN  Car Classic       1  \n",
       "2           TOYOTA      NaN    NaN  Car Classic       0  \n",
       "3              NaN      NaN    NaN      CarSafe       0  \n",
       "4              NaN    Lagos  Lagos        Muuve       1  "
      ]
     },
     "execution_count": 22,
     "metadata": {},
     "output_type": "execute_result"
    }
   ],
   "source": [
    "train.head()"
   ]
  },
  {
   "cell_type": "markdown",
   "metadata": {},
   "source": [
    "### Feature Engineering 1"
   ]
  },
  {
   "cell_type": "code",
   "execution_count": 23,
   "metadata": {},
   "outputs": [],
   "source": [
    "train = train.assign(policy_start_year = train[\"Policy Start Date\"].dt.year,\n",
    "            policy_start_month = train[\"Policy Start Date\"].dt.month,\n",
    "            policy_start_day = train[\"Policy Start Date\"].dt.day,\n",
    "            policy_end_year = train[\"Policy End Date\"].dt.year,\n",
    "            policy_end_month = train[\"Policy End Date\"].dt.month,\n",
    "            policy_end_day = train[\"Policy End Date\"].dt.day,\n",
    "            first_transaction_year = train[\"First Transaction Date\"].dt.year,\n",
    "            first_transaction_month = train[\"First Transaction Date\"].dt.month,\n",
    "            first_transaction_day = train[\"First Transaction Date\"].dt.day)"
   ]
  },
  {
   "cell_type": "code",
   "execution_count": 24,
   "metadata": {},
   "outputs": [],
   "source": [
    "test = test.assign(policy_start_year = test[\"Policy Start Date\"].dt.year,\n",
    "            policy_start_month = test[\"Policy Start Date\"].dt.month,\n",
    "            policy_start_day = test[\"Policy Start Date\"].dt.day,\n",
    "            policy_end_year = test[\"Policy End Date\"].dt.year,\n",
    "            policy_end_month = test[\"Policy End Date\"].dt.month,\n",
    "            policy_end_day = test[\"Policy End Date\"].dt.day,\n",
    "            first_transaction_year = test[\"First Transaction Date\"].dt.year,\n",
    "            first_transaction_month = test[\"First Transaction Date\"].dt.month,\n",
    "            first_transaction_day = test[\"First Transaction Date\"].dt.day)"
   ]
  },
  {
   "cell_type": "code",
   "execution_count": 25,
   "metadata": {},
   "outputs": [],
   "source": [
    "train[\"policy_duration_days\"] = (train[\"Policy End Date\"] - train[\"Policy Start Date\"]).astype(str).str.replace(\" days\",\"\")\n",
    "test[\"policy_duration_days\"] = (test[\"Policy End Date\"] - test[\"Policy Start Date\"]).astype(str).str.replace(\" days\",\"\")"
   ]
  },
  {
   "cell_type": "markdown",
   "metadata": {},
   "source": [
    "## Categorical Features"
   ]
  },
  {
   "cell_type": "code",
   "execution_count": 26,
   "metadata": {},
   "outputs": [
    {
     "data": {
      "text/plain": [
       "Gender                  7\n",
       "Car_Category           16\n",
       "Subject_Car_Colour     45\n",
       "Subject_Car_Make       74\n",
       "LGA_Name              258\n",
       "State                 111\n",
       "ProductName             9\n",
       "dtype: int64"
      ]
     },
     "execution_count": 26,
     "metadata": {},
     "output_type": "execute_result"
    }
   ],
   "source": [
    "train[cat_features].nunique()"
   ]
  },
  {
   "cell_type": "code",
   "execution_count": 27,
   "metadata": {},
   "outputs": [],
   "source": [
    "# for feat in cat_features:\n",
    "#     sns.countplot(x=feat , data=train)\n",
    "#     plt.xticks(rotation=90)\n",
    "#     plt.show()"
   ]
  },
  {
   "cell_type": "code",
   "execution_count": 28,
   "metadata": {},
   "outputs": [],
   "source": [
    "# gender_map = mapper = {\"Male\":\"M\",\"Female\":'F','Entity':'O','Joint Gender':'O',9999:'O','NO GENDER':'O','NOT STATED':'O','SEX':'O' }"
   ]
  },
  {
   "cell_type": "code",
   "execution_count": 29,
   "metadata": {},
   "outputs": [],
   "source": [
    "# train[\"Gender\"] = train[\"Gender\"].map(gender_map)\n",
    "# test[\"Gender\"] = test[\"Gender\"].map(gender_map)"
   ]
  },
  {
   "cell_type": "code",
   "execution_count": null,
   "metadata": {},
   "outputs": [],
   "source": []
  },
  {
   "cell_type": "code",
   "execution_count": 30,
   "metadata": {},
   "outputs": [
    {
     "data": {
      "text/plain": [
       "array([2010, 2007, 2009, 2006, 2001, 2005, 2003, 2002])"
      ]
     },
     "execution_count": 30,
     "metadata": {},
     "output_type": "execute_result"
    }
   ],
   "source": [
    "train[\"Policy Start Date\"].dt.year.unique()"
   ]
  },
  {
   "cell_type": "code",
   "execution_count": 31,
   "metadata": {},
   "outputs": [
    {
     "data": {
      "text/plain": [
       "array([2011, 2010, 2012, 2041, 2037, 2016, 2034])"
      ]
     },
     "execution_count": 31,
     "metadata": {},
     "output_type": "execute_result"
    }
   ],
   "source": [
    "train[\"Policy End Date\"].dt.year.unique()"
   ]
  },
  {
   "cell_type": "markdown",
   "metadata": {},
   "source": [
    "No Customer Duplicates..Good!"
   ]
  },
  {
   "cell_type": "code",
   "execution_count": 32,
   "metadata": {},
   "outputs": [],
   "source": [
    "missing_cats = [col for col in missing_features if col in cat_features]\n",
    "for col in missing_cats:\n",
    "    train[col].fillna(\"Missing\",inplace=True)\n",
    "    test[col].fillna(\"Missing\",inplace=True)"
   ]
  },
  {
   "cell_type": "code",
   "execution_count": 33,
   "metadata": {},
   "outputs": [],
   "source": [
    "#policy_duration_days to integet\n",
    "train[\"policy_duration_days\"] = train[\"policy_duration_days\"].astype(int)"
   ]
  },
  {
   "cell_type": "code",
   "execution_count": 34,
   "metadata": {},
   "outputs": [
    {
     "name": "stdout",
     "output_type": "stream",
     "text": [
      "Gender\n",
      "set()\n",
      "set()\n",
      "\n",
      "Car_Category\n",
      "{'CAMRY CAR HIRE', 'Tipper Truck'}\n",
      "set()\n",
      "\n",
      "Subject_Car_Colour\n",
      "{'D. Red', 'Red & Blue', 'Black & White', 'Dark Green', 'Champagne', 'White & Yellow', 'Light Gray', 'Light Blue', 'White & Red'}\n",
      "{'Red Maroon'}\n",
      "\n",
      "Subject_Car_Make\n",
      "{'BRILLIANCE', 'REXTON', 'Lincoln', 'ABG', 'CHANGAN', 'Yamaha', 'GAC', 'Rols Royce', 'Bajaj', 'Geely', 'Raston', 'Caddillac', 'Fiat', 'ZOYTE', 'COMMANDER', 'Howo', 'Astra', 'Jincheng', 'Motorcycle', 'Ashok Leyland', 'Jaguar', 'Tata'}\n",
      "{'Datsun'}\n",
      "\n",
      "LGA_Name\n",
      "{'Ajeromi-Ifelodun', 'Bekwara', 'AKUTE', 'Tai ', 'Orolu', 'Ilorin East', 'Idemili North', 'Ohaukwu', 'Garki', 'Awka North', 'Isoko North', 'Asari-Toru', 'BARIGA', 'AKOKO-EDO', 'Rogo', 'IJAIYE', 'Akoko North West', 'Eket', 'QuaAn Pan', 'kumbotso', 'EMENE', 'Bosso', 'Epe', 'Essien Udim', 'Ogba/Egbema/Ndoni', 'Okrika', 'Akuku Toru', 'Ijebu North', 'Ijora', 'Njaba', 'AREPO', 'Kajola', 'Abakaliki', 'Akwa Ibom', 'Orsu', 'OWODE', 'Obalende', 'Isoko south', 'Esan Central', 'Karu', 'Ilesha', 'Yenagoa', 'Yorro', 'Egor', 'Katagum', 'Ido', 'MAGBORO', 'Ilesha East', 'EFFURUN', 'Okpe', 'Eleme', 'Ajegunle,Lagos  State', 'Etsako West', 'Bauchi', 'Ondo West', 'Iwo', 'Ogbomoso', 'Ekiti South-West', 'Oyo West', 'Owerri West ', 'Argungu', 'Warri North', 'Ekiti', 'Oyo East', 'Udi Agwu', 'Nwangele', 'Palm Groove', 'Katcha', 'Oturkpo', 'Olamabolo', 'OBANIKORO', 'ALAPERE', 'Nnewi South', 'ENUGU SOUTH', 'ABULE EGBA', 'AWOYAYA', 'Ado-Ekiti'}\n",
      "{'Benue', 'Ankpa', 'Hong', 'AGBARA', 'Ngor-Okpala', 'Idemili south', 'AKOWONJO', 'Okpokwu', 'Zaria', 'Ifako-Agege', 'VGC', 'Ekwusigo'}\n",
      "\n",
      "State\n",
      "{'Ajeromi-Ifelodun', 'Akoko-West', 'Nnewi-South', 'Isoko-south', 'Udi-Agwu', 'Ilesha-East', 'Bayelsa', 'Oyo-West', 'Owerri-West', 'ABULE-EGBA', 'Asari-Toru', 'Bauchi', 'ENUGU-SOUTH', 'Ekiti-West', 'Ebonyi', 'Etsako-West', 'Ilorin-East', 'Esan-Central', 'Ijebu-North', 'Idemili-North', 'Awka-North', 'QuaAn-Pan', 'N-A', 'Ondo-West', 'Ogba-Ndoni', 'Isoko-North', 'Kebbi', 'Essien-Udim', 'Ajegunle-State', 'Oyo-East', 'Warri-North', 'Ado-Ekiti'}\n",
      "{'Ngor-Okpala', 'Idemili-south'}\n",
      "\n",
      "ProductName\n",
      "set()\n",
      "set()\n",
      "\n"
     ]
    }
   ],
   "source": [
    "for col in cat_features:\n",
    "    train_unique = set(train[col].unique())\n",
    "    test_unique = set(test[col].unique())\n",
    "    print(f\"{col}\")\n",
    "    print(train_unique.difference(test_unique))\n",
    "    print(test_unique.difference(train_unique))\n",
    "    print()"
   ]
  },
  {
   "cell_type": "markdown",
   "metadata": {},
   "source": [
    "Since there are values that are not in test and not present in train and vice versa, we'll concat the train and test datset and use pandas factorize to make our lives easier"
   ]
  },
  {
   "cell_type": "markdown",
   "metadata": {},
   "source": [
    "### Encode Categoricals"
   ]
  },
  {
   "cell_type": "code",
   "execution_count": 35,
   "metadata": {},
   "outputs": [],
   "source": [
    "df = pd.concat([train,test])"
   ]
  },
  {
   "cell_type": "code",
   "execution_count": 36,
   "metadata": {},
   "outputs": [
    {
     "data": {
      "text/html": [
       "<div>\n",
       "<style scoped>\n",
       "    .dataframe tbody tr th:only-of-type {\n",
       "        vertical-align: middle;\n",
       "    }\n",
       "\n",
       "    .dataframe tbody tr th {\n",
       "        vertical-align: top;\n",
       "    }\n",
       "\n",
       "    .dataframe thead th {\n",
       "        text-align: right;\n",
       "    }\n",
       "</style>\n",
       "<table border=\"1\" class=\"dataframe\">\n",
       "  <thead>\n",
       "    <tr style=\"text-align: right;\">\n",
       "      <th></th>\n",
       "      <th>ID</th>\n",
       "      <th>Policy Start Date</th>\n",
       "      <th>Policy End Date</th>\n",
       "      <th>Gender</th>\n",
       "      <th>Age</th>\n",
       "      <th>First Transaction Date</th>\n",
       "      <th>No_Pol</th>\n",
       "      <th>Car_Category</th>\n",
       "      <th>Subject_Car_Colour</th>\n",
       "      <th>Subject_Car_Make</th>\n",
       "      <th>LGA_Name</th>\n",
       "      <th>State</th>\n",
       "      <th>ProductName</th>\n",
       "      <th>target</th>\n",
       "      <th>policy_start_year</th>\n",
       "      <th>policy_start_month</th>\n",
       "      <th>policy_start_day</th>\n",
       "      <th>policy_end_year</th>\n",
       "      <th>policy_end_month</th>\n",
       "      <th>policy_end_day</th>\n",
       "      <th>first_transaction_year</th>\n",
       "      <th>first_transaction_month</th>\n",
       "      <th>first_transaction_day</th>\n",
       "      <th>policy_duration_days</th>\n",
       "    </tr>\n",
       "  </thead>\n",
       "  <tbody>\n",
       "    <tr>\n",
       "      <th>0</th>\n",
       "      <td>0040R73</td>\n",
       "      <td>2010-05-14</td>\n",
       "      <td>2011-05-13</td>\n",
       "      <td>Male</td>\n",
       "      <td>30</td>\n",
       "      <td>2010-05-14</td>\n",
       "      <td>1</td>\n",
       "      <td>Saloon</td>\n",
       "      <td>Black</td>\n",
       "      <td>TOYOTA</td>\n",
       "      <td>Missing</td>\n",
       "      <td>Missing</td>\n",
       "      <td>Car Classic</td>\n",
       "      <td>0.0</td>\n",
       "      <td>2010</td>\n",
       "      <td>5</td>\n",
       "      <td>14</td>\n",
       "      <td>2011</td>\n",
       "      <td>5</td>\n",
       "      <td>13</td>\n",
       "      <td>2010</td>\n",
       "      <td>5</td>\n",
       "      <td>14</td>\n",
       "      <td>364</td>\n",
       "    </tr>\n",
       "    <tr>\n",
       "      <th>1</th>\n",
       "      <td>0046BNK</td>\n",
       "      <td>2010-11-29</td>\n",
       "      <td>2011-11-28</td>\n",
       "      <td>Female</td>\n",
       "      <td>79</td>\n",
       "      <td>2010-11-29</td>\n",
       "      <td>1</td>\n",
       "      <td>JEEP</td>\n",
       "      <td>Grey</td>\n",
       "      <td>TOYOTA</td>\n",
       "      <td>Missing</td>\n",
       "      <td>Missing</td>\n",
       "      <td>Car Classic</td>\n",
       "      <td>1.0</td>\n",
       "      <td>2010</td>\n",
       "      <td>11</td>\n",
       "      <td>29</td>\n",
       "      <td>2011</td>\n",
       "      <td>11</td>\n",
       "      <td>28</td>\n",
       "      <td>2010</td>\n",
       "      <td>11</td>\n",
       "      <td>29</td>\n",
       "      <td>364</td>\n",
       "    </tr>\n",
       "    <tr>\n",
       "      <th>2</th>\n",
       "      <td>005QMC3</td>\n",
       "      <td>2010-03-21</td>\n",
       "      <td>2011-03-20</td>\n",
       "      <td>Male</td>\n",
       "      <td>43</td>\n",
       "      <td>2010-03-21</td>\n",
       "      <td>1</td>\n",
       "      <td>Saloon</td>\n",
       "      <td>Red</td>\n",
       "      <td>TOYOTA</td>\n",
       "      <td>Missing</td>\n",
       "      <td>Missing</td>\n",
       "      <td>Car Classic</td>\n",
       "      <td>0.0</td>\n",
       "      <td>2010</td>\n",
       "      <td>3</td>\n",
       "      <td>21</td>\n",
       "      <td>2011</td>\n",
       "      <td>3</td>\n",
       "      <td>20</td>\n",
       "      <td>2010</td>\n",
       "      <td>3</td>\n",
       "      <td>21</td>\n",
       "      <td>364</td>\n",
       "    </tr>\n",
       "    <tr>\n",
       "      <th>3</th>\n",
       "      <td>0079OHW</td>\n",
       "      <td>2010-08-21</td>\n",
       "      <td>2011-08-20</td>\n",
       "      <td>Male</td>\n",
       "      <td>2</td>\n",
       "      <td>2010-08-21</td>\n",
       "      <td>1</td>\n",
       "      <td>Missing</td>\n",
       "      <td>Missing</td>\n",
       "      <td>Missing</td>\n",
       "      <td>Missing</td>\n",
       "      <td>Missing</td>\n",
       "      <td>CarSafe</td>\n",
       "      <td>0.0</td>\n",
       "      <td>2010</td>\n",
       "      <td>8</td>\n",
       "      <td>21</td>\n",
       "      <td>2011</td>\n",
       "      <td>8</td>\n",
       "      <td>20</td>\n",
       "      <td>2010</td>\n",
       "      <td>8</td>\n",
       "      <td>21</td>\n",
       "      <td>364</td>\n",
       "    </tr>\n",
       "    <tr>\n",
       "      <th>4</th>\n",
       "      <td>00BRP63</td>\n",
       "      <td>2010-08-29</td>\n",
       "      <td>2010-12-31</td>\n",
       "      <td>Entity</td>\n",
       "      <td>20</td>\n",
       "      <td>2010-08-29</td>\n",
       "      <td>3</td>\n",
       "      <td>Missing</td>\n",
       "      <td>Missing</td>\n",
       "      <td>Missing</td>\n",
       "      <td>Lagos</td>\n",
       "      <td>Lagos</td>\n",
       "      <td>Muuve</td>\n",
       "      <td>1.0</td>\n",
       "      <td>2010</td>\n",
       "      <td>8</td>\n",
       "      <td>29</td>\n",
       "      <td>2010</td>\n",
       "      <td>12</td>\n",
       "      <td>31</td>\n",
       "      <td>2010</td>\n",
       "      <td>8</td>\n",
       "      <td>29</td>\n",
       "      <td>124</td>\n",
       "    </tr>\n",
       "    <tr>\n",
       "      <th>...</th>\n",
       "      <td>...</td>\n",
       "      <td>...</td>\n",
       "      <td>...</td>\n",
       "      <td>...</td>\n",
       "      <td>...</td>\n",
       "      <td>...</td>\n",
       "      <td>...</td>\n",
       "      <td>...</td>\n",
       "      <td>...</td>\n",
       "      <td>...</td>\n",
       "      <td>...</td>\n",
       "      <td>...</td>\n",
       "      <td>...</td>\n",
       "      <td>...</td>\n",
       "      <td>...</td>\n",
       "      <td>...</td>\n",
       "      <td>...</td>\n",
       "      <td>...</td>\n",
       "      <td>...</td>\n",
       "      <td>...</td>\n",
       "      <td>...</td>\n",
       "      <td>...</td>\n",
       "      <td>...</td>\n",
       "      <td>...</td>\n",
       "    </tr>\n",
       "    <tr>\n",
       "      <th>5172</th>\n",
       "      <td>ZYXX5AF</td>\n",
       "      <td>2010-07-18</td>\n",
       "      <td>2011-07-17</td>\n",
       "      <td>Male</td>\n",
       "      <td>48</td>\n",
       "      <td>2010-07-18</td>\n",
       "      <td>1</td>\n",
       "      <td>Saloon</td>\n",
       "      <td>Missing</td>\n",
       "      <td>Honda</td>\n",
       "      <td>Missing</td>\n",
       "      <td>Missing</td>\n",
       "      <td>CarSafe</td>\n",
       "      <td>NaN</td>\n",
       "      <td>2010</td>\n",
       "      <td>7</td>\n",
       "      <td>18</td>\n",
       "      <td>2011</td>\n",
       "      <td>7</td>\n",
       "      <td>17</td>\n",
       "      <td>2010</td>\n",
       "      <td>7</td>\n",
       "      <td>18</td>\n",
       "      <td>364</td>\n",
       "    </tr>\n",
       "    <tr>\n",
       "      <th>5173</th>\n",
       "      <td>ZYYOZ5L</td>\n",
       "      <td>2010-12-04</td>\n",
       "      <td>2011-12-03</td>\n",
       "      <td>Missing</td>\n",
       "      <td>50</td>\n",
       "      <td>2010-12-04</td>\n",
       "      <td>1</td>\n",
       "      <td>Missing</td>\n",
       "      <td>Missing</td>\n",
       "      <td>Missing</td>\n",
       "      <td>Victoria Island</td>\n",
       "      <td>Lagos</td>\n",
       "      <td>Car Classic</td>\n",
       "      <td>NaN</td>\n",
       "      <td>2010</td>\n",
       "      <td>12</td>\n",
       "      <td>4</td>\n",
       "      <td>2011</td>\n",
       "      <td>12</td>\n",
       "      <td>3</td>\n",
       "      <td>2010</td>\n",
       "      <td>12</td>\n",
       "      <td>4</td>\n",
       "      <td>364</td>\n",
       "    </tr>\n",
       "    <tr>\n",
       "      <th>5174</th>\n",
       "      <td>ZZ1GTKD</td>\n",
       "      <td>2010-09-24</td>\n",
       "      <td>2011-09-23</td>\n",
       "      <td>Male</td>\n",
       "      <td>1</td>\n",
       "      <td>2010-09-24</td>\n",
       "      <td>1</td>\n",
       "      <td>Missing</td>\n",
       "      <td>Missing</td>\n",
       "      <td>Missing</td>\n",
       "      <td>Missing</td>\n",
       "      <td>Missing</td>\n",
       "      <td>CarSafe</td>\n",
       "      <td>NaN</td>\n",
       "      <td>2010</td>\n",
       "      <td>9</td>\n",
       "      <td>24</td>\n",
       "      <td>2011</td>\n",
       "      <td>9</td>\n",
       "      <td>23</td>\n",
       "      <td>2010</td>\n",
       "      <td>9</td>\n",
       "      <td>24</td>\n",
       "      <td>364</td>\n",
       "    </tr>\n",
       "    <tr>\n",
       "      <th>5175</th>\n",
       "      <td>ZZDXQSI</td>\n",
       "      <td>2010-07-17</td>\n",
       "      <td>2011-07-16</td>\n",
       "      <td>Female</td>\n",
       "      <td>52</td>\n",
       "      <td>2010-07-17</td>\n",
       "      <td>1</td>\n",
       "      <td>Saloon</td>\n",
       "      <td>Grey</td>\n",
       "      <td>TOYOTA</td>\n",
       "      <td>Missing</td>\n",
       "      <td>Missing</td>\n",
       "      <td>Car Classic</td>\n",
       "      <td>NaN</td>\n",
       "      <td>2010</td>\n",
       "      <td>7</td>\n",
       "      <td>17</td>\n",
       "      <td>2011</td>\n",
       "      <td>7</td>\n",
       "      <td>16</td>\n",
       "      <td>2010</td>\n",
       "      <td>7</td>\n",
       "      <td>17</td>\n",
       "      <td>364</td>\n",
       "    </tr>\n",
       "    <tr>\n",
       "      <th>5176</th>\n",
       "      <td>ZZYTLV1</td>\n",
       "      <td>2010-07-17</td>\n",
       "      <td>2011-07-16</td>\n",
       "      <td>Male</td>\n",
       "      <td>68</td>\n",
       "      <td>2010-07-17</td>\n",
       "      <td>1</td>\n",
       "      <td>Saloon</td>\n",
       "      <td>Missing</td>\n",
       "      <td>Peugeot</td>\n",
       "      <td>Missing</td>\n",
       "      <td>Missing</td>\n",
       "      <td>CarSafe</td>\n",
       "      <td>NaN</td>\n",
       "      <td>2010</td>\n",
       "      <td>7</td>\n",
       "      <td>17</td>\n",
       "      <td>2011</td>\n",
       "      <td>7</td>\n",
       "      <td>16</td>\n",
       "      <td>2010</td>\n",
       "      <td>7</td>\n",
       "      <td>17</td>\n",
       "      <td>364</td>\n",
       "    </tr>\n",
       "  </tbody>\n",
       "</table>\n",
       "<p>17256 rows × 24 columns</p>\n",
       "</div>"
      ],
      "text/plain": [
       "           ID Policy Start Date Policy End Date   Gender  Age  \\\n",
       "0     0040R73        2010-05-14      2011-05-13     Male   30   \n",
       "1     0046BNK        2010-11-29      2011-11-28   Female   79   \n",
       "2     005QMC3        2010-03-21      2011-03-20     Male   43   \n",
       "3     0079OHW        2010-08-21      2011-08-20     Male    2   \n",
       "4     00BRP63        2010-08-29      2010-12-31   Entity   20   \n",
       "...       ...               ...             ...      ...  ...   \n",
       "5172  ZYXX5AF        2010-07-18      2011-07-17     Male   48   \n",
       "5173  ZYYOZ5L        2010-12-04      2011-12-03  Missing   50   \n",
       "5174  ZZ1GTKD        2010-09-24      2011-09-23     Male    1   \n",
       "5175  ZZDXQSI        2010-07-17      2011-07-16   Female   52   \n",
       "5176  ZZYTLV1        2010-07-17      2011-07-16     Male   68   \n",
       "\n",
       "     First Transaction Date  No_Pol Car_Category Subject_Car_Colour  \\\n",
       "0                2010-05-14       1       Saloon              Black   \n",
       "1                2010-11-29       1         JEEP               Grey   \n",
       "2                2010-03-21       1       Saloon                Red   \n",
       "3                2010-08-21       1      Missing            Missing   \n",
       "4                2010-08-29       3      Missing            Missing   \n",
       "...                     ...     ...          ...                ...   \n",
       "5172             2010-07-18       1       Saloon            Missing   \n",
       "5173             2010-12-04       1      Missing            Missing   \n",
       "5174             2010-09-24       1      Missing            Missing   \n",
       "5175             2010-07-17       1       Saloon               Grey   \n",
       "5176             2010-07-17       1       Saloon            Missing   \n",
       "\n",
       "     Subject_Car_Make         LGA_Name    State  ProductName  target  \\\n",
       "0              TOYOTA          Missing  Missing  Car Classic     0.0   \n",
       "1              TOYOTA          Missing  Missing  Car Classic     1.0   \n",
       "2              TOYOTA          Missing  Missing  Car Classic     0.0   \n",
       "3             Missing          Missing  Missing      CarSafe     0.0   \n",
       "4             Missing            Lagos    Lagos        Muuve     1.0   \n",
       "...               ...              ...      ...          ...     ...   \n",
       "5172            Honda          Missing  Missing      CarSafe     NaN   \n",
       "5173          Missing  Victoria Island    Lagos  Car Classic     NaN   \n",
       "5174          Missing          Missing  Missing      CarSafe     NaN   \n",
       "5175           TOYOTA          Missing  Missing  Car Classic     NaN   \n",
       "5176          Peugeot          Missing  Missing      CarSafe     NaN   \n",
       "\n",
       "      policy_start_year  policy_start_month  policy_start_day  \\\n",
       "0                  2010                   5                14   \n",
       "1                  2010                  11                29   \n",
       "2                  2010                   3                21   \n",
       "3                  2010                   8                21   \n",
       "4                  2010                   8                29   \n",
       "...                 ...                 ...               ...   \n",
       "5172               2010                   7                18   \n",
       "5173               2010                  12                 4   \n",
       "5174               2010                   9                24   \n",
       "5175               2010                   7                17   \n",
       "5176               2010                   7                17   \n",
       "\n",
       "      policy_end_year  policy_end_month  policy_end_day  \\\n",
       "0                2011                 5              13   \n",
       "1                2011                11              28   \n",
       "2                2011                 3              20   \n",
       "3                2011                 8              20   \n",
       "4                2010                12              31   \n",
       "...               ...               ...             ...   \n",
       "5172             2011                 7              17   \n",
       "5173             2011                12               3   \n",
       "5174             2011                 9              23   \n",
       "5175             2011                 7              16   \n",
       "5176             2011                 7              16   \n",
       "\n",
       "      first_transaction_year  first_transaction_month  first_transaction_day  \\\n",
       "0                       2010                        5                     14   \n",
       "1                       2010                       11                     29   \n",
       "2                       2010                        3                     21   \n",
       "3                       2010                        8                     21   \n",
       "4                       2010                        8                     29   \n",
       "...                      ...                      ...                    ...   \n",
       "5172                    2010                        7                     18   \n",
       "5173                    2010                       12                      4   \n",
       "5174                    2010                        9                     24   \n",
       "5175                    2010                        7                     17   \n",
       "5176                    2010                        7                     17   \n",
       "\n",
       "     policy_duration_days  \n",
       "0                     364  \n",
       "1                     364  \n",
       "2                     364  \n",
       "3                     364  \n",
       "4                     124  \n",
       "...                   ...  \n",
       "5172                  364  \n",
       "5173                  364  \n",
       "5174                  364  \n",
       "5175                  364  \n",
       "5176                  364  \n",
       "\n",
       "[17256 rows x 24 columns]"
      ]
     },
     "execution_count": 36,
     "metadata": {},
     "output_type": "execute_result"
    }
   ],
   "source": [
    "df"
   ]
  },
  {
   "cell_type": "code",
   "execution_count": 37,
   "metadata": {},
   "outputs": [],
   "source": [
    "for col in cat_features:\n",
    "    df[col] = pd.factorize(df[col])[0]"
   ]
  },
  {
   "cell_type": "code",
   "execution_count": 38,
   "metadata": {},
   "outputs": [
    {
     "data": {
      "text/plain": [
       "['ID', 'Policy Start Date', 'Policy End Date', 'First Transaction Date']"
      ]
     },
     "execution_count": 38,
     "metadata": {},
     "output_type": "execute_result"
    }
   ],
   "source": [
    "DROP_COLS + datetime_features"
   ]
  },
  {
   "cell_type": "code",
   "execution_count": 39,
   "metadata": {},
   "outputs": [],
   "source": [
    "df.drop(labels=DROP_COLS + datetime_features , axis=1,inplace=True)"
   ]
  },
  {
   "cell_type": "code",
   "execution_count": null,
   "metadata": {},
   "outputs": [],
   "source": []
  },
  {
   "cell_type": "code",
   "execution_count": 40,
   "metadata": {},
   "outputs": [
    {
     "name": "stdout",
     "output_type": "stream",
     "text": [
      "(12079, 20) (5177, 20)\n"
     ]
    }
   ],
   "source": [
    "train_new = df[:n_train]\n",
    "test_new = df[n_train:]\n",
    "print(train_new.shape , test_new.shape)"
   ]
  },
  {
   "cell_type": "code",
   "execution_count": 41,
   "metadata": {},
   "outputs": [
    {
     "name": "stderr",
     "output_type": "stream",
     "text": [
      "/home/temmyzeus/miniconda3/lib/python3.8/site-packages/pandas/core/frame.py:4167: SettingWithCopyWarning: \n",
      "A value is trying to be set on a copy of a slice from a DataFrame\n",
      "\n",
      "See the caveats in the documentation: https://pandas.pydata.org/pandas-docs/stable/user_guide/indexing.html#returning-a-view-versus-a-copy\n",
      "  return super().drop(\n"
     ]
    }
   ],
   "source": [
    "test_new.drop(TARGET,axis=1,inplace=True)"
   ]
  },
  {
   "cell_type": "code",
   "execution_count": 42,
   "metadata": {},
   "outputs": [
    {
     "name": "stdout",
     "output_type": "stream",
     "text": [
      "(12079, 19) (12079,)\n"
     ]
    }
   ],
   "source": [
    "X = train_new.drop(TARGET,axis=1)\n",
    "y = train[TARGET]\n",
    "print(X.shape,y.shape)"
   ]
  },
  {
   "cell_type": "markdown",
   "metadata": {},
   "source": [
    "## Modelling"
   ]
  },
  {
   "cell_type": "code",
   "execution_count": 43,
   "metadata": {},
   "outputs": [],
   "source": [
    "from sklearn.model_selection import cross_val_score , StratifiedShuffleSplit"
   ]
  },
  {
   "cell_type": "code",
   "execution_count": 44,
   "metadata": {},
   "outputs": [
    {
     "name": "stderr",
     "output_type": "stream",
     "text": [
      "/home/temmyzeus/miniconda3/lib/python3.8/site-packages/sklearn/model_selection/_split.py:293: FutureWarning: Setting a random_state has no effect since shuffle is False. This will raise an error in 0.24. You should leave random_state to its default (None), or set shuffle=True.\n",
      "  warnings.warn(\n"
     ]
    }
   ],
   "source": [
    "skf = StratifiedKFold(random_state=0)\n",
    "sss = StratifiedShuffleSplit(n_splits=5,random_state=0)"
   ]
  },
  {
   "cell_type": "markdown",
   "metadata": {},
   "source": [
    "\"Woah..POlicy Duration Days\" we created apperars to be in object type, let's correct that"
   ]
  },
  {
   "cell_type": "code",
   "execution_count": 45,
   "metadata": {},
   "outputs": [
    {
     "name": "stderr",
     "output_type": "stream",
     "text": [
      "<ipython-input-45-f4eda4f3bc25>:2: SettingWithCopyWarning: \n",
      "A value is trying to be set on a copy of a slice from a DataFrame.\n",
      "Try using .loc[row_indexer,col_indexer] = value instead\n",
      "\n",
      "See the caveats in the documentation: https://pandas.pydata.org/pandas-docs/stable/user_guide/indexing.html#returning-a-view-versus-a-copy\n",
      "  test_new[\"policy_duration_days\"] = test_new[\"policy_duration_days\"].astype(int)\n"
     ]
    }
   ],
   "source": [
    "X[\"policy_duration_days\"] = X[\"policy_duration_days\"].astype(int)\n",
    "test_new[\"policy_duration_days\"] = test_new[\"policy_duration_days\"].astype(int)"
   ]
  },
  {
   "cell_type": "code",
   "execution_count": 47,
   "metadata": {},
   "outputs": [
    {
     "name": "stderr",
     "output_type": "stream",
     "text": [
      "[Parallel(n_jobs=-1)]: Using backend LokyBackend with 4 concurrent workers.\n",
      "[Parallel(n_jobs=-1)]: Done   5 out of   5 | elapsed:    7.8s finished\n",
      "[Parallel(n_jobs=-1)]: Using backend LokyBackend with 4 concurrent workers.\n",
      "[Parallel(n_jobs=-1)]: Done   5 out of   5 | elapsed:    2.8s finished\n",
      "[Parallel(n_jobs=-1)]: Using backend LokyBackend with 4 concurrent workers.\n",
      "[Parallel(n_jobs=-1)]: Done   5 out of   5 | elapsed:    9.3s finished\n",
      "[Parallel(n_jobs=-1)]: Using backend LokyBackend with 4 concurrent workers.\n",
      "[Parallel(n_jobs=-1)]: Done   5 out of   5 | elapsed:    8.1s finished\n",
      "[Parallel(n_jobs=-1)]: Using backend LokyBackend with 4 concurrent workers.\n",
      "[Parallel(n_jobs=-1)]: Done   5 out of   5 | elapsed:    7.1s finished\n",
      "[Parallel(n_jobs=-1)]: Using backend LokyBackend with 4 concurrent workers.\n",
      "[Parallel(n_jobs=-1)]: Done   5 out of   5 | elapsed:  1.8min finished\n",
      "[Parallel(n_jobs=-1)]: Using backend LokyBackend with 4 concurrent workers.\n",
      "[Parallel(n_jobs=-1)]: Done   5 out of   5 | elapsed:    1.7s finished\n",
      "[Parallel(n_jobs=-1)]: Using backend LokyBackend with 4 concurrent workers.\n",
      "[Parallel(n_jobs=-1)]: Done   5 out of   5 | elapsed:    1.0s finished\n",
      "[Parallel(n_jobs=-1)]: Using backend LokyBackend with 4 concurrent workers.\n",
      "[Parallel(n_jobs=-1)]: Done   5 out of   5 | elapsed:    0.6s finished\n"
     ]
    },
    {
     "data": {
      "text/html": [
       "<div>\n",
       "<style scoped>\n",
       "    .dataframe tbody tr th:only-of-type {\n",
       "        vertical-align: middle;\n",
       "    }\n",
       "\n",
       "    .dataframe tbody tr th {\n",
       "        vertical-align: top;\n",
       "    }\n",
       "\n",
       "    .dataframe thead th {\n",
       "        text-align: right;\n",
       "    }\n",
       "</style>\n",
       "<table border=\"1\" class=\"dataframe\">\n",
       "  <thead>\n",
       "    <tr style=\"text-align: right;\">\n",
       "      <th></th>\n",
       "      <th>1</th>\n",
       "      <th>2</th>\n",
       "      <th>3</th>\n",
       "      <th>4</th>\n",
       "      <th>5</th>\n",
       "      <th>Mean</th>\n",
       "      <th>Std</th>\n",
       "    </tr>\n",
       "  </thead>\n",
       "  <tbody>\n",
       "    <tr>\n",
       "      <th>RandomForestClassifier</th>\n",
       "      <td>0.230769</td>\n",
       "      <td>0.227848</td>\n",
       "      <td>0.197425</td>\n",
       "      <td>0.195918</td>\n",
       "      <td>0.172414</td>\n",
       "      <td>0.204875</td>\n",
       "      <td>0.0218528</td>\n",
       "    </tr>\n",
       "    <tr>\n",
       "      <th>AdaBoostClassifier</th>\n",
       "      <td>0.0784314</td>\n",
       "      <td>0.0392157</td>\n",
       "      <td>0.0636943</td>\n",
       "      <td>0.0645161</td>\n",
       "      <td>0.0251572</td>\n",
       "      <td>0.0542029</td>\n",
       "      <td>0.0192444</td>\n",
       "    </tr>\n",
       "    <tr>\n",
       "      <th>GradientBoostingClassifier</th>\n",
       "      <td>0.161491</td>\n",
       "      <td>0.113208</td>\n",
       "      <td>0.0897436</td>\n",
       "      <td>0.0987654</td>\n",
       "      <td>0.0858896</td>\n",
       "      <td>0.109819</td>\n",
       "      <td>0.0274928</td>\n",
       "    </tr>\n",
       "    <tr>\n",
       "      <th>XGBClassifier</th>\n",
       "      <td>0.263636</td>\n",
       "      <td>0.256637</td>\n",
       "      <td>0.248848</td>\n",
       "      <td>0.207792</td>\n",
       "      <td>0.193548</td>\n",
       "      <td>0.234092</td>\n",
       "      <td>0.0280512</td>\n",
       "    </tr>\n",
       "    <tr>\n",
       "      <th>XGBRFClassifier</th>\n",
       "      <td>0.15</td>\n",
       "      <td>0.101911</td>\n",
       "      <td>0.0779221</td>\n",
       "      <td>0.100629</td>\n",
       "      <td>0.075</td>\n",
       "      <td>0.101092</td>\n",
       "      <td>0.026872</td>\n",
       "    </tr>\n",
       "    <tr>\n",
       "      <th>CatBoostClassifier</th>\n",
       "      <td>0.210526</td>\n",
       "      <td>0.236559</td>\n",
       "      <td>0.212291</td>\n",
       "      <td>0.168421</td>\n",
       "      <td>0.134715</td>\n",
       "      <td>0.192502</td>\n",
       "      <td>0.0362677</td>\n",
       "    </tr>\n",
       "    <tr>\n",
       "      <th>LGBMClassifier</th>\n",
       "      <td>0.225641</td>\n",
       "      <td>0.225806</td>\n",
       "      <td>0.179775</td>\n",
       "      <td>0.198953</td>\n",
       "      <td>0.148936</td>\n",
       "      <td>0.195822</td>\n",
       "      <td>0.0291679</td>\n",
       "    </tr>\n",
       "    <tr>\n",
       "      <th>LogisticRegression</th>\n",
       "      <td>0</td>\n",
       "      <td>0</td>\n",
       "      <td>0</td>\n",
       "      <td>0</td>\n",
       "      <td>0</td>\n",
       "      <td>0</td>\n",
       "      <td>0</td>\n",
       "    </tr>\n",
       "    <tr>\n",
       "      <th>DecisionTreeClassifier</th>\n",
       "      <td>0.196491</td>\n",
       "      <td>0.207358</td>\n",
       "      <td>0.168919</td>\n",
       "      <td>0.208054</td>\n",
       "      <td>0.209836</td>\n",
       "      <td>0.198132</td>\n",
       "      <td>0.0153404</td>\n",
       "    </tr>\n",
       "  </tbody>\n",
       "</table>\n",
       "</div>"
      ],
      "text/plain": [
       "                                    1          2          3          4  \\\n",
       "RandomForestClassifier       0.230769   0.227848   0.197425   0.195918   \n",
       "AdaBoostClassifier          0.0784314  0.0392157  0.0636943  0.0645161   \n",
       "GradientBoostingClassifier   0.161491   0.113208  0.0897436  0.0987654   \n",
       "XGBClassifier                0.263636   0.256637   0.248848   0.207792   \n",
       "XGBRFClassifier                  0.15   0.101911  0.0779221   0.100629   \n",
       "CatBoostClassifier           0.210526   0.236559   0.212291   0.168421   \n",
       "LGBMClassifier               0.225641   0.225806   0.179775   0.198953   \n",
       "LogisticRegression                  0          0          0          0   \n",
       "DecisionTreeClassifier       0.196491   0.207358   0.168919   0.208054   \n",
       "\n",
       "                                    5       Mean        Std  \n",
       "RandomForestClassifier       0.172414   0.204875  0.0218528  \n",
       "AdaBoostClassifier          0.0251572  0.0542029  0.0192444  \n",
       "GradientBoostingClassifier  0.0858896   0.109819  0.0274928  \n",
       "XGBClassifier                0.193548   0.234092  0.0280512  \n",
       "XGBRFClassifier                 0.075   0.101092   0.026872  \n",
       "CatBoostClassifier           0.134715   0.192502  0.0362677  \n",
       "LGBMClassifier               0.148936   0.195822  0.0291679  \n",
       "LogisticRegression                  0          0          0  \n",
       "DecisionTreeClassifier       0.209836   0.198132  0.0153404  "
      ]
     },
     "metadata": {},
     "output_type": "display_data"
    }
   ],
   "source": [
    "classifiers = [RandomForestClassifier(random_state=0),\n",
    "              AdaBoostClassifier(random_state=0),\n",
    "              GradientBoostingClassifier(random_state=0),\n",
    "              XGBClassifier(random_state=0),\n",
    "              XGBRFClassifier(random_state=0),\n",
    "              CatBoostClassifier(random_state=0),\n",
    "              LGBMClassifier(random_state=0),\n",
    "              LogisticRegression(random_state=0),\n",
    "              DecisionTreeClassifier(random_state=0)]\n",
    "\n",
    "df = pd.DataFrame(columns=[1,2,3,4,5,\"Mean\",\"Std\"] , index=[model.__class__.__name__ for model in classifiers])\n",
    "for model in classifiers:\n",
    "    name = model.__class__.__name__\n",
    "    scores = cross_val_score(estimator=model,X=X,y=y,scoring=\"f1\",cv=sss,n_jobs=-1,verbose=2)\n",
    "#     scores = scores * -1\n",
    "    scores_mean = scores.mean()\n",
    "    scores_std = scores.std()\n",
    "    _ = np.array([scores_mean,scores_std])\n",
    "    scores = np.concatenate([scores,_])\n",
    "    df.loc[name] = scores\n",
    "    \n",
    "display(df)"
   ]
  },
  {
   "cell_type": "code",
   "execution_count": null,
   "metadata": {},
   "outputs": [],
   "source": []
  },
  {
   "cell_type": "code",
   "execution_count": 48,
   "metadata": {},
   "outputs": [],
   "source": [
    "from sklearn.ensemble import RandomForestClassifier"
   ]
  },
  {
   "cell_type": "code",
   "execution_count": 49,
   "metadata": {},
   "outputs": [
    {
     "name": "stdout",
     "output_type": "stream",
     "text": [
      "[0.18141593 0.20915033 0.18691589 0.20935412 0.18518519]\n",
      "0.1944042898607677\n"
     ]
    }
   ],
   "source": [
    "catboost_clf = RandomForestClassifier()\n",
    "scr = cross_val_score(catboost_clf,\n",
    "               X=X,\n",
    "               y=y,\n",
    "               scoring=\"f1\",\n",
    "               cv=skf,\n",
    "               n_jobs=-1)\n",
    "print(scr)\n",
    "print(scr.mean())"
   ]
  },
  {
   "cell_type": "code",
   "execution_count": 50,
   "metadata": {},
   "outputs": [],
   "source": [
    "from sklearn.ensemble import RandomForestClassifier"
   ]
  },
  {
   "cell_type": "code",
   "execution_count": 51,
   "metadata": {},
   "outputs": [],
   "source": [
    "model = RandomForestClassifier()\n",
    "model.fit(X,y)\n",
    "y_preds = model.predict_proba(test_new)"
   ]
  },
  {
   "cell_type": "code",
   "execution_count": 52,
   "metadata": {},
   "outputs": [
    {
     "data": {
      "text/html": [
       "<div>\n",
       "<style scoped>\n",
       "    .dataframe tbody tr th:only-of-type {\n",
       "        vertical-align: middle;\n",
       "    }\n",
       "\n",
       "    .dataframe tbody tr th {\n",
       "        vertical-align: top;\n",
       "    }\n",
       "\n",
       "    .dataframe thead th {\n",
       "        text-align: right;\n",
       "    }\n",
       "</style>\n",
       "<table border=\"1\" class=\"dataframe\">\n",
       "  <thead>\n",
       "    <tr style=\"text-align: right;\">\n",
       "      <th></th>\n",
       "      <th>Feature</th>\n",
       "      <th>Importance</th>\n",
       "    </tr>\n",
       "  </thead>\n",
       "  <tbody>\n",
       "    <tr>\n",
       "      <th>1</th>\n",
       "      <td>Age</td>\n",
       "      <td>0.130020</td>\n",
       "    </tr>\n",
       "    <tr>\n",
       "      <th>4</th>\n",
       "      <td>Subject_Car_Colour</td>\n",
       "      <td>0.089820</td>\n",
       "    </tr>\n",
       "    <tr>\n",
       "      <th>14</th>\n",
       "      <td>policy_end_day</td>\n",
       "      <td>0.084068</td>\n",
       "    </tr>\n",
       "    <tr>\n",
       "      <th>17</th>\n",
       "      <td>first_transaction_day</td>\n",
       "      <td>0.074504</td>\n",
       "    </tr>\n",
       "    <tr>\n",
       "      <th>11</th>\n",
       "      <td>policy_start_day</td>\n",
       "      <td>0.073969</td>\n",
       "    </tr>\n",
       "    <tr>\n",
       "      <th>6</th>\n",
       "      <td>LGA_Name</td>\n",
       "      <td>0.072883</td>\n",
       "    </tr>\n",
       "    <tr>\n",
       "      <th>5</th>\n",
       "      <td>Subject_Car_Make</td>\n",
       "      <td>0.060141</td>\n",
       "    </tr>\n",
       "    <tr>\n",
       "      <th>8</th>\n",
       "      <td>ProductName</td>\n",
       "      <td>0.055371</td>\n",
       "    </tr>\n",
       "    <tr>\n",
       "      <th>13</th>\n",
       "      <td>policy_end_month</td>\n",
       "      <td>0.051310</td>\n",
       "    </tr>\n",
       "    <tr>\n",
       "      <th>10</th>\n",
       "      <td>policy_start_month</td>\n",
       "      <td>0.049595</td>\n",
       "    </tr>\n",
       "    <tr>\n",
       "      <th>16</th>\n",
       "      <td>first_transaction_month</td>\n",
       "      <td>0.047847</td>\n",
       "    </tr>\n",
       "    <tr>\n",
       "      <th>7</th>\n",
       "      <td>State</td>\n",
       "      <td>0.045646</td>\n",
       "    </tr>\n",
       "    <tr>\n",
       "      <th>3</th>\n",
       "      <td>Car_Category</td>\n",
       "      <td>0.043787</td>\n",
       "    </tr>\n",
       "    <tr>\n",
       "      <th>18</th>\n",
       "      <td>policy_duration_days</td>\n",
       "      <td>0.043295</td>\n",
       "    </tr>\n",
       "    <tr>\n",
       "      <th>0</th>\n",
       "      <td>Gender</td>\n",
       "      <td>0.037868</td>\n",
       "    </tr>\n",
       "    <tr>\n",
       "      <th>2</th>\n",
       "      <td>No_Pol</td>\n",
       "      <td>0.029799</td>\n",
       "    </tr>\n",
       "    <tr>\n",
       "      <th>12</th>\n",
       "      <td>policy_end_year</td>\n",
       "      <td>0.009672</td>\n",
       "    </tr>\n",
       "    <tr>\n",
       "      <th>15</th>\n",
       "      <td>first_transaction_year</td>\n",
       "      <td>0.000251</td>\n",
       "    </tr>\n",
       "    <tr>\n",
       "      <th>9</th>\n",
       "      <td>policy_start_year</td>\n",
       "      <td>0.000154</td>\n",
       "    </tr>\n",
       "  </tbody>\n",
       "</table>\n",
       "</div>"
      ],
      "text/plain": [
       "                    Feature  Importance\n",
       "1                       Age    0.130020\n",
       "4        Subject_Car_Colour    0.089820\n",
       "14           policy_end_day    0.084068\n",
       "17    first_transaction_day    0.074504\n",
       "11         policy_start_day    0.073969\n",
       "6                  LGA_Name    0.072883\n",
       "5          Subject_Car_Make    0.060141\n",
       "8               ProductName    0.055371\n",
       "13         policy_end_month    0.051310\n",
       "10       policy_start_month    0.049595\n",
       "16  first_transaction_month    0.047847\n",
       "7                     State    0.045646\n",
       "3              Car_Category    0.043787\n",
       "18     policy_duration_days    0.043295\n",
       "0                    Gender    0.037868\n",
       "2                    No_Pol    0.029799\n",
       "12          policy_end_year    0.009672\n",
       "15   first_transaction_year    0.000251\n",
       "9         policy_start_year    0.000154"
      ]
     },
     "execution_count": 52,
     "metadata": {},
     "output_type": "execute_result"
    }
   ],
   "source": [
    "pd.DataFrame({\"Feature\":X.columns,\"Importance\":model.feature_importances_}).sort_values(by=\"Importance\",ascending=False)"
   ]
  },
  {
   "cell_type": "code",
   "execution_count": 53,
   "metadata": {},
   "outputs": [],
   "source": [
    "def sigmoid_kekere(y):\n",
    "    if y > 0.388:\n",
    "        return 1\n",
    "    else:\n",
    "        return 0"
   ]
  },
  {
   "cell_type": "code",
   "execution_count": 54,
   "metadata": {},
   "outputs": [],
   "source": [
    "ss[\"target\"] = y_preds[:,1]"
   ]
  },
  {
   "cell_type": "code",
   "execution_count": 55,
   "metadata": {},
   "outputs": [
    {
     "data": {
      "text/html": [
       "<div>\n",
       "<style scoped>\n",
       "    .dataframe tbody tr th:only-of-type {\n",
       "        vertical-align: middle;\n",
       "    }\n",
       "\n",
       "    .dataframe tbody tr th {\n",
       "        vertical-align: top;\n",
       "    }\n",
       "\n",
       "    .dataframe thead th {\n",
       "        text-align: right;\n",
       "    }\n",
       "</style>\n",
       "<table border=\"1\" class=\"dataframe\">\n",
       "  <thead>\n",
       "    <tr style=\"text-align: right;\">\n",
       "      <th></th>\n",
       "      <th>ID</th>\n",
       "      <th>target</th>\n",
       "    </tr>\n",
       "  </thead>\n",
       "  <tbody>\n",
       "    <tr>\n",
       "      <th>0</th>\n",
       "      <td>009D84L</td>\n",
       "      <td>0.743333</td>\n",
       "    </tr>\n",
       "    <tr>\n",
       "      <th>1</th>\n",
       "      <td>01DO2EQ</td>\n",
       "      <td>0.504333</td>\n",
       "    </tr>\n",
       "    <tr>\n",
       "      <th>2</th>\n",
       "      <td>01QM0NU</td>\n",
       "      <td>0.084167</td>\n",
       "    </tr>\n",
       "    <tr>\n",
       "      <th>3</th>\n",
       "      <td>024NJLZ</td>\n",
       "      <td>0.097333</td>\n",
       "    </tr>\n",
       "    <tr>\n",
       "      <th>4</th>\n",
       "      <td>02BYET3</td>\n",
       "      <td>0.679770</td>\n",
       "    </tr>\n",
       "    <tr>\n",
       "      <th>...</th>\n",
       "      <td>...</td>\n",
       "      <td>...</td>\n",
       "    </tr>\n",
       "    <tr>\n",
       "      <th>5172</th>\n",
       "      <td>ZYXX5AF</td>\n",
       "      <td>0.000000</td>\n",
       "    </tr>\n",
       "    <tr>\n",
       "      <th>5173</th>\n",
       "      <td>ZYYOZ5L</td>\n",
       "      <td>0.000000</td>\n",
       "    </tr>\n",
       "    <tr>\n",
       "      <th>5174</th>\n",
       "      <td>ZZ1GTKD</td>\n",
       "      <td>0.000000</td>\n",
       "    </tr>\n",
       "    <tr>\n",
       "      <th>5175</th>\n",
       "      <td>ZZDXQSI</td>\n",
       "      <td>0.363167</td>\n",
       "    </tr>\n",
       "    <tr>\n",
       "      <th>5176</th>\n",
       "      <td>ZZYTLV1</td>\n",
       "      <td>0.000000</td>\n",
       "    </tr>\n",
       "  </tbody>\n",
       "</table>\n",
       "<p>5177 rows × 2 columns</p>\n",
       "</div>"
      ],
      "text/plain": [
       "           ID    target\n",
       "0     009D84L  0.743333\n",
       "1     01DO2EQ  0.504333\n",
       "2     01QM0NU  0.084167\n",
       "3     024NJLZ  0.097333\n",
       "4     02BYET3  0.679770\n",
       "...       ...       ...\n",
       "5172  ZYXX5AF  0.000000\n",
       "5173  ZYYOZ5L  0.000000\n",
       "5174  ZZ1GTKD  0.000000\n",
       "5175  ZZDXQSI  0.363167\n",
       "5176  ZZYTLV1  0.000000\n",
       "\n",
       "[5177 rows x 2 columns]"
      ]
     },
     "execution_count": 55,
     "metadata": {},
     "output_type": "execute_result"
    }
   ],
   "source": [
    "ss"
   ]
  },
  {
   "cell_type": "code",
   "execution_count": 56,
   "metadata": {},
   "outputs": [],
   "source": [
    "ss[\"target\"] = ss[\"target\"].astype(float)"
   ]
  },
  {
   "cell_type": "code",
   "execution_count": 57,
   "metadata": {},
   "outputs": [],
   "source": [
    "ss[\"target\"] = ss[\"target\"].apply(sigmoid_kekere)"
   ]
  },
  {
   "cell_type": "code",
   "execution_count": 58,
   "metadata": {},
   "outputs": [
    {
     "data": {
      "text/plain": [
       "0    4419\n",
       "1     758\n",
       "Name: target, dtype: int64"
      ]
     },
     "execution_count": 58,
     "metadata": {},
     "output_type": "execute_result"
    }
   ],
   "source": [
    "ss[\"target\"].value_counts()"
   ]
  },
  {
   "cell_type": "code",
   "execution_count": 59,
   "metadata": {},
   "outputs": [],
   "source": [
    "ss.to_csv(\"my_sub_.csv\",index=False)"
   ]
  },
  {
   "cell_type": "code",
   "execution_count": null,
   "metadata": {},
   "outputs": [],
   "source": []
  }
 ],
 "metadata": {
  "kernelspec": {
   "display_name": "Python 3",
   "language": "python",
   "name": "python3"
  },
  "language_info": {
   "codemirror_mode": {
    "name": "ipython",
    "version": 3
   },
   "file_extension": ".py",
   "mimetype": "text/x-python",
   "name": "python",
   "nbconvert_exporter": "python",
   "pygments_lexer": "ipython3",
   "version": "3.8.3"
  }
 },
 "nbformat": 4,
 "nbformat_minor": 4
}
